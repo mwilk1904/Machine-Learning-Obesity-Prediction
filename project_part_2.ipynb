{
 "cells": [
  {
   "cell_type": "markdown",
   "metadata": {
    "collapsed": true
   },
   "source": [
    "# Data preparation and model selection\n"
   ]
  },
  {
   "cell_type": "code",
   "execution_count": 1,
   "metadata": {},
   "outputs": [],
   "source": [
    "import numpy as np\n",
    "import pandas as pd\n",
    "import mlflow\n",
    "import mlflow.sklearn\n",
    "from sklearn.linear_model import Ridge, Lasso, LinearRegression\n",
    "from sklearn.neighbors import KNeighborsRegressor\n",
    "from sklearn.model_selection import RandomizedSearchCV\n",
    "from numpy import random\n",
    "from sklearn.neighbors import KNeighborsClassifier\n",
    "from sklearn.ensemble import RandomForestRegressor\n",
    "from sklearn.base import BaseEstimator\n",
    "from sklearn.pipeline import Pipeline\n",
    "from sklearn.preprocessing import StandardScaler\n",
    "from sklearn.model_selection import train_test_split\n",
    "from sklearn.metrics import mean_squared_error, mean_absolute_error\n",
    "from sklearn.model_selection import KFold\n",
    "from sklearn.neural_network import MLPRegressor\n",
    "\n",
    "import warnings\n",
    "warnings.simplefilter(\"ignore\")"
   ]
  },
  {
   "cell_type": "code",
   "execution_count": 2,
   "metadata": {},
   "outputs": [],
   "source": [
    "X1 = pd.read_csv(\"data/X1.csv\", index_col=0)\n",
    "Y1 = pd.read_csv(\"data/Y1.csv\", header=None, names=['Weight'])\n",
    "X2 = pd.read_csv(\"data/X2.csv\", index_col=0)"
   ]
  },
  {
   "cell_type": "markdown",
   "metadata": {},
   "source": [
    "## Data preparation"
   ]
  },
  {
   "cell_type": "markdown",
   "metadata": {},
   "source": [
    "### Data encoding"
   ]
  },
  {
   "cell_type": "code",
   "execution_count": 3,
   "metadata": {},
   "outputs": [],
   "source": [
    "class DataEncoder(BaseEstimator):\n",
    "    def __init__(self): # no *args or **kargs\n",
    "        pass\n",
    "    def fit(self, X, y=None):\n",
    "        return self # nothing else to do\n",
    "    def transform(self, X, y=None):\n",
    "        columns = ['Gender', 'Age', 'Height', 'Family history with overweight', 'Consumption of high caloric food',\n",
    "           'Consumption frequency of vegetables', 'Number of main meals daily', 'Food Consumption between meals', 'Smoke',\n",
    "           'Water consumption daily', 'Calories consumption monitoring', 'Physical activity frequency', 'Time using technology devices',\n",
    "           'Alcohol consumption', 'Usual transportation used']\n",
    "        X.columns = columns\n",
    "        X['Consumption frequency of vegetables'] = X['Consumption frequency of vegetables'].replace(\n",
    "            {1: '1. Never', 2: '2. Sometimes', 3: '3. Always'})\n",
    "        X['Number of main meals daily'] = X['Number of main meals daily'].replace(\n",
    "            {1: '1', 2: '2', 3: '3', 4: '3+'})\n",
    "        X['Water consumption daily'] = X['Water consumption daily'].replace(\n",
    "            {1: '1. Less than 1L', 2: '2. Between 1L and 2L', 3: '3. More than 2L'})\n",
    "        X['Physical activity frequency'] = X['Physical activity frequency'].replace(\n",
    "            {0: '1. I do not have', 1: '2. 1 or 2 days', 2: '3. 2 or 4 days', 3: '4. 4 or 5 days'})\n",
    "        X['Time using technology devices'] = X['Time using technology devices'].replace(\n",
    "            {0: '1. 0–2 hours', 1: '2. 3–5 hours', 2: '3. More than 5 hours'})\n",
    "        X['Food Consumption between meals'] = X['Food Consumption between meals'].replace(\n",
    "            {'no' : '1. No', 'Sometimes' : '2. Sometimes', 'Frequently': '3. Frequently','Always': '4. Always'})\n",
    "\n",
    "        #X['Height'] = X['Height']*100\n",
    "\n",
    "        X[\"Usual transportation used\"] = X[\"Usual transportation used\"].apply(lambda x : \"Public_Transportation\" if x == \"Public_Transportation\" else \"Other\")\n",
    "        X[\"Public Transportation\"] = X.apply(lambda x : \"yes\" if x['Usual transportation used'] == \"Public_Transportation\" else \"no\", axis=1)\n",
    "        X.drop(\"Usual transportation used\", inplace=True, axis=1)\n",
    "\n",
    "        ordinal_cat = ['Consumption frequency of vegetables', 'Number of main meals daily', 'Food Consumption between meals',\n",
    "               'Water consumption daily', 'Physical activity frequency', 'Time using technology devices',\n",
    "               'Alcohol consumption']\n",
    "        for cat in ordinal_cat:\n",
    "            X[cat] = X[cat].map(lambda x: sorted(X[cat].unique()).index(x)+1)\n",
    "\n",
    "        # Handling binary categorical features\n",
    "        X[['Family history with overweight', 'Consumption of high caloric food', 'Smoke', 'Calories consumption monitoring','Public Transportation']] = X[[\n",
    "            'Family history with overweight', 'Consumption of high caloric food', 'Smoke', 'Calories consumption monitoring','Public Transportation']].replace(to_replace=['no', 'yes'], value=[0, 1])\n",
    "        X[['Gender']] = X[['Gender']].replace(\n",
    "            to_replace=['Female', 'Male'], value=[0, 1])\n",
    "\n",
    "        X.drop([\"Smoke\",\"Calories consumption monitoring\"], inplace=True, axis=1)\n",
    "\n",
    "        X['Age'] = X['Age'].map(lambda x: np.log(x))\n",
    "\n",
    "        #X[ordinal_cat] = X[ordinal_cat].apply(lambda x : np.exp(x))\n",
    "\n",
    "        return X.astype(np.float64),y"
   ]
  },
  {
   "cell_type": "markdown",
   "metadata": {},
   "source": [
    "## Model selection"
   ]
  },
  {
   "cell_type": "code",
   "execution_count": 4,
   "metadata": {},
   "outputs": [],
   "source": [
    "def score_weight_class(bmi_pred, bmi_true, low, high):\n",
    "    tol = 1\n",
    "    vpred = (bmi_pred >= low - tol) & (bmi_pred < high+tol)\n",
    "    vtrue = (bmi_true >= low) & (bmi_true < high)\n",
    "    if vtrue.sum() == 0:\n",
    "        print(\"no true samples here\")\n",
    "        return 0\n",
    "    rmse = np.sqrt(((bmi_true[vtrue]-bmi_pred[vtrue])**2).mean())\n",
    "    rmse = rmse/(high-low+tol)  # normalize rmse in interval\n",
    "    acc = (vpred & vtrue).sum()/vtrue.sum()\n",
    "    return rmse*(1-acc)\n",
    "\n",
    "\n",
    "def score_regression(ytrue, ypred, height):\n",
    "    bmi_pred = ypred/(height*height)\n",
    "    bmi_true = ytrue/(height*height)\n",
    "    scores = []\n",
    "    for bmi_low, bmi_high in zip([0, 18.5, 25, 30], [18.5, 25, 30, 100]):\n",
    "        scores.append(score_weight_class(bmi_pred, bmi_true,\n",
    "                                         low=bmi_low, high=bmi_high))\n",
    "    return np.mean(scores)\n",
    "\n"
   ]
  },
  {
   "cell_type": "code",
   "execution_count": 16,
   "metadata": {},
   "outputs": [],
   "source": [
    "X,y = DataEncoder().transform(X1.copy(),Y1.copy())\n",
    "n_columns = len(X.columns)\n",
    "\n",
    "\n",
    "X_train, X_test, y_train, y_test = train_test_split(X, y, test_size=0.25, random_state=42)\n",
    "\n",
    "linear_models = {\n",
    "    'LinearRegression': LinearRegression(),\n",
    "    'Lasso': Lasso(),\n",
    "    'Ridge': Ridge(),\n",
    "}\n",
    "\n",
    "non_linear_models = {\n",
    "    # 'KNeighborsRegressor': KNeighborsRegressor(),\n",
    "    # 'RandomForestRegressor' : RandomForestRegressor(),\n",
    "    'MLPRegressor' : MLPRegressor()\n",
    "}\n",
    "\n",
    "linear_params = {\n",
    "    'LinearRegression__fit_intercept': [True,False],\n",
    "\n",
    "    'Lasso__alpha': random.uniform(low=0.0001, high=50, size=100),\n",
    "\n",
    "    'Ridge__alpha': random.uniform(low=0.0001, high=50, size=100),\n",
    "    'Ridge__solver' : ['auto', 'svd', 'cholesky', 'lsqr', 'sparse_cg', 'sag', 'saga', 'lbfgs'],\n",
    "\n",
    "}\n",
    "\n",
    "non_linear_params = {\n",
    "    # 'KNeighborsRegressor__weights': ['uniform', 'distance'],\n",
    "    # 'KNeighborsRegressor__n_neighbors': random.randint(5, 200, size=100),\n",
    "    # 'KNeighborsRegressor__algorithm' : ['auto', 'ball_tree', 'kd_tree', 'brute'],\n",
    "    # 'KNeighborsRegressor__leaf_size': random.randint(20, 200, size=100),\n",
    "\n",
    "    # 'RandomForestRegressor__n_estimators': random.randint(1, 1000, size=100),\n",
    "    # 'RandomForestRegressor__max_depth': random.randint(1, 1000, size=100),\n",
    "    # 'RandomForestRegressor__max_features': ['sqrt', 'log2', 'auto'],\n",
    "    # 'RandomForestRegressor__min_samples_split': random.randint(1, 1000, size=100),\n",
    "    # 'RandomForestRegressor__min_samples_leaf': random.randint(1, 1000, size=100),\n",
    "    # 'RandomForestRegressor__criterion' : ['squared_error', 'absolute_error', 'poisson'],\n",
    "    \n",
    "    'MLPRegressor__hidden_layer_sizes': list(zip(random.randint(10, 100, size=200),random.randint(10, 100, size=200))), \n",
    "    #'MLPRegressor__hidden_layer_sizes': random.randint(10, 200, size=100), \n",
    "    'MLPRegressor__solver': ['lbfgs', 'sgd', 'adam'],\n",
    "    'MLPRegressor__learning_rate': ['constant', 'invscaling', 'adaptive'], \n",
    "    'MLPRegressor__alpha': random.uniform(low=0.001, high=200, size=200),\n",
    "    'MLPRegressor__activation': ['logistic', 'tanh', 'relu', 'identity'],\n",
    "    'MLPRegressor__max_iter': random.randint(100, 2000, size=200),\n",
    "}"
   ]
  },
  {
   "cell_type": "code",
   "execution_count": 6,
   "metadata": {},
   "outputs": [
    {
     "data": {
      "text/plain": [
       "<Experiment: artifact_location='file:///C:/Users/marci/Dropbox%20%28PCSAMU%20SRL%29/Documents/UCL%20-%20Master/Q3/LELEC2870%20-%20Machine%20learning%20%20regression%2C%20deep%20networks%20and%20dimensionality%20reduction/Project/mlruns/1', experiment_id='1', lifecycle_stage='active', name='Obsesity Regression', tags={}>"
      ]
     },
     "execution_count": 6,
     "metadata": {},
     "output_type": "execute_result"
    }
   ],
   "source": [
    "mlflow.set_experiment(\"Obsesity Regression\")"
   ]
  },
  {
   "cell_type": "code",
   "execution_count": 17,
   "metadata": {},
   "outputs": [],
   "source": [
    "def run_randomized_search(models,params):\n",
    "    for key in models.keys():\n",
    "        with mlflow.start_run():\n",
    "            print(f\"Running RandomizedSearchCV for {key}.\")\n",
    "            model = models[key]\n",
    "            param = {k : v for k,v in params.items() if key in k }\n",
    "            pipeline = Pipeline(steps=[\n",
    "                ('Scaler', StandardScaler()),\n",
    "                (key,model)\n",
    "            ])\n",
    "            \n",
    "            rs = RandomizedSearchCV(pipeline, param, n_iter=200, cv=KFold(n_splits=5), n_jobs=-2,\n",
    "                                    verbose=8, scoring=['neg_mean_absolute_error','neg_root_mean_squared_error'], refit='neg_mean_absolute_error',\n",
    "                                    random_state=42\n",
    "                                    )\n",
    "            \n",
    "            rs.fit(X_train, y_train)\n",
    "            mlflow.log_param(\"Best Estimator\", key)\n",
    "            mlflow.log_metric(\"score_train_mae\", float(rs.best_score_))\n",
    "            preds = rs.predict(X_test)\n",
    "            mlflow.log_metric(\"score_test_mae\", mean_absolute_error(preds,y_test))\n",
    "            mlflow.log_metric(\"score_test_rmse\", mean_squared_error(preds,y_test,squared=False))\n",
    "            mlflow.log_metric(\"score_test_reg\", score_regression(y_test['Weight'].ravel(),preds.ravel(),X_test['Height'].ravel()))\n",
    "            \n",
    "            for key in rs.best_params_:\n",
    "                mlflow.log_param(key.split('__')[1], rs.best_params_[key])\n",
    "            mlflow.sklearn.log_model(rs.best_estimator_, \"best_model\")\n"
   ]
  },
  {
   "cell_type": "code",
   "execution_count": 18,
   "metadata": {},
   "outputs": [
    {
     "name": "stdout",
     "output_type": "stream",
     "text": [
      "Running RandomizedSearchCV for LinearRegression.\n",
      "Fitting 5 folds for each of 2 candidates, totalling 10 fits\n",
      "Running RandomizedSearchCV for Lasso.\n",
      "Fitting 5 folds for each of 100 candidates, totalling 500 fits\n",
      "Running RandomizedSearchCV for Ridge.\n",
      "Fitting 5 folds for each of 200 candidates, totalling 1000 fits\n"
     ]
    }
   ],
   "source": [
    "#Run Randomized Search for linear models\n",
    "run_randomized_search(linear_models,linear_params)\n"
   ]
  },
  {
   "cell_type": "code",
   "execution_count": null,
   "metadata": {},
   "outputs": [],
   "source": [
    "\n",
    "#Run Randomized Search for non-linear models\n",
    "run_randomized_search(non_linear_models,non_linear_params)"
   ]
  },
  {
   "cell_type": "code",
   "execution_count": 19,
   "metadata": {},
   "outputs": [
    {
     "name": "stdout",
     "output_type": "stream",
     "text": [
      "Pipeline(steps=[('Scaler', StandardScaler()),\n",
      "                ('MLPRegressor',\n",
      "                 MLPRegressor(activation='identity', alpha=43.878636243378956,\n",
      "                              hidden_layer_sizes=(15, 11),\n",
      "                              learning_rate='invscaling', max_iter=533))])\n"
     ]
    }
   ],
   "source": [
    "#Getting the best experients from Mlflow\n",
    "df_experients = mlflow.search_runs(filter_string=\"metrics.score_test_reg < 0.12\")\n",
    "\n",
    "#Getting the best run id\n",
    "best_experients_run_id = df_experients.loc[df_experients['metrics.score_test_reg'].idxmin()]['run_id']\n",
    "best_experients_reg_score = df_experients.loc[df_experients['metrics.score_test_reg'].idxmin()]['metrics.score_test_reg']\n",
    "#Load model\n",
    "model = mlflow.sklearn.load_model(\"runs:/\" + best_experients_run_id + \"/best_model\")\n",
    "print(model)"
   ]
  },
  {
   "cell_type": "code",
   "execution_count": null,
   "metadata": {},
   "outputs": [],
   "source": [
    "#Predict Y2\n",
    "X,_ = DataEncoder().transform(X2.copy())\n",
    "y_pred = model.predict(X)\n",
    "series_y = pd.Series(y_pred)\n",
    "series_y = series_y.append(pd.Series(best_experients_reg_score))\n",
    "series_y.to_csv('data/Y2.csv',index=False,header=False,sep='\\n')"
   ]
  },
  {
   "cell_type": "markdown",
   "metadata": {},
   "source": [
    "\n",
    "## Classification\n"
   ]
  },
  {
   "cell_type": "markdown",
   "metadata": {},
   "source": [
    "### Getting the labels"
   ]
  },
  {
   "cell_type": "code",
   "execution_count": 20,
   "metadata": {},
   "outputs": [],
   "source": [
    "def get_label(height, weight):\n",
    "    bmi = weight/height**2\n",
    "    if 0 < bmi < 18.5:\n",
    "        return 'underweight'\n",
    "    if 18.5 < bmi < 25.0:\n",
    "        return 'normal'\n",
    "    if 25.0 < bmi < 30.0:\n",
    "        return 'overweight'\n",
    "    if bmi >=30.0:\n",
    "        return 'obese'\n",
    "\n",
    "y_pred = model.predict(X_test)\n",
    "df_true = pd.concat([X_test,y_test], axis=1)\n",
    "df_pred = pd.concat([X_test,pd.DataFrame(y_pred, columns=['Weight'], index=X_test.index)], axis=1)\n",
    "true_labels = df_true.apply(lambda x : get_label(x['Height'],x['Weight']),axis=1).ravel()\n",
    "pred_labels = df_pred.apply(lambda x : get_label(x['Height'],x['Weight']),axis=1).ravel()"
   ]
  },
  {
   "cell_type": "code",
   "execution_count": 21,
   "metadata": {},
   "outputs": [
    {
     "data": {
      "text/plain": [
       "<sklearn.metrics._plot.confusion_matrix.ConfusionMatrixDisplay at 0x19109e28c10>"
      ]
     },
     "execution_count": 21,
     "metadata": {},
     "output_type": "execute_result"
    },
    {
     "data": {
      "image/png": "[encoded data removed]",
      "text/plain": [
       "<Figure size 432x288 with 2 Axes>"
      ]
     },
     "metadata": {
      "needs_background": "light"
     },
     "output_type": "display_data"
    }
   ],
   "source": [
    "from sklearn.metrics import ConfusionMatrixDisplay, classification_report\n",
    "ConfusionMatrixDisplay.from_predictions(true_labels, pred_labels, labels=['underweight','normal','overweight','obese'])"
   ]
  },
  {
   "cell_type": "code",
   "execution_count": 22,
   "metadata": {},
   "outputs": [
    {
     "name": "stdout",
     "output_type": "stream",
     "text": [
      "              precision    recall  f1-score   support\n",
      "\n",
      "      normal       0.76      0.73      0.75        52\n",
      "       obese       0.00      0.00      0.00         3\n",
      "  overweight       0.36      0.64      0.46        14\n",
      " underweight       0.00      0.00      0.00         6\n",
      "\n",
      "    accuracy                           0.63        75\n",
      "   macro avg       0.28      0.34      0.30        75\n",
      "weighted avg       0.59      0.63      0.60        75\n",
      "\n"
     ]
    }
   ],
   "source": [
    "print(classification_report(true_labels, pred_labels))"
   ]
  },
  {
   "cell_type": "markdown",
   "metadata": {},
   "source": [
    "## Conclusion"
   ]
  },
  {
   "cell_type": "markdown",
   "metadata": {},
   "source": []
  }
 ],
 "metadata": {
  "interpreter": {
   "hash": "643983cb912722448ab70204d5f58fc7d67fc5fc0e3de367d07cf898678346f4"
  },
  "kernelspec": {
   "display_name": "Python 3.8.8 64-bit ('base': conda)",
   "name": "python3"
  },
  "language_info": {
   "codemirror_mode": {
    "name": "ipython",
    "version": 3
   },
   "file_extension": ".py",
   "mimetype": "text/x-python",
   "name": "python",
   "nbconvert_exporter": "python",
   "pygments_lexer": "ipython3",
   "version": "3.8.12"
  }
 },
 "nbformat": 4,
 "nbformat_minor": 0
}
